{
 "cells": [
  {
   "cell_type": "markdown",
   "id": "e01920de",
   "metadata": {},
   "source": [
    "# Loading the Saved Model\n",
    "In this notebook I will load the PPO model in use it to make predictions"
   ]
  },
  {
   "cell_type": "markdown",
   "id": "a06c72c9",
   "metadata": {},
   "source": [
    "## Steps:\n",
    "The same steps that we performed while training the model will be performed again. \n",
    "\n",
    "1. Importing Libraries\n",
    "2. Import and read Data\n",
    "3. Data preprocessing\n",
    "4. Environment Creation\n",
    "5. Feature Engineering\n",
    "but now instead of training the model we will load it."
   ]
  },
  {
   "cell_type": "code",
   "execution_count": 1,
   "id": "e6bcfec9",
   "metadata": {},
   "outputs": [],
   "source": [
    "# Gym stuff\n",
    "import gym\n",
    "from stable_baselines3 import PPO\n",
    "import gym_anytrading\n",
    "\n",
    "# Processing libraries\n",
    "import numpy as np\n",
    "import pandas as pd\n",
    "from matplotlib import pyplot as plt"
   ]
  },
  {
   "cell_type": "code",
   "execution_count": 2,
   "id": "f8ddbb12",
   "metadata": {},
   "outputs": [],
   "source": [
    "df = pd.read_csv('/Users/raunakpandey/rl-test/aapl/AAPL.csv')"
   ]
  },
  {
   "cell_type": "code",
   "execution_count": 3,
   "id": "9745a998",
   "metadata": {},
   "outputs": [
    {
     "data": {
      "text/plain": [
       "Date      datetime64[ns]\n",
       "Open             float64\n",
       "High             float64\n",
       "Low              float64\n",
       "Close            float64\n",
       "Volume            object\n",
       "dtype: object"
      ]
     },
     "execution_count": 3,
     "metadata": {},
     "output_type": "execute_result"
    }
   ],
   "source": [
    "df['Date'] = pd.to_datetime(df['Date'])\n",
    "df.dtypes"
   ]
  },
  {
   "cell_type": "code",
   "execution_count": 4,
   "id": "a1796012",
   "metadata": {},
   "outputs": [
    {
     "data": {
      "text/html": [
       "<div>\n",
       "<style scoped>\n",
       "    .dataframe tbody tr th:only-of-type {\n",
       "        vertical-align: middle;\n",
       "    }\n",
       "\n",
       "    .dataframe tbody tr th {\n",
       "        vertical-align: top;\n",
       "    }\n",
       "\n",
       "    .dataframe thead th {\n",
       "        text-align: right;\n",
       "    }\n",
       "</style>\n",
       "<table border=\"1\" class=\"dataframe\">\n",
       "  <thead>\n",
       "    <tr style=\"text-align: right;\">\n",
       "      <th></th>\n",
       "      <th>Date</th>\n",
       "      <th>Open</th>\n",
       "      <th>High</th>\n",
       "      <th>Low</th>\n",
       "      <th>Close</th>\n",
       "      <th>Volume</th>\n",
       "    </tr>\n",
       "  </thead>\n",
       "  <tbody>\n",
       "    <tr>\n",
       "      <th>251</th>\n",
       "      <td>2021-08-12</td>\n",
       "      <td>146.19</td>\n",
       "      <td>149.05</td>\n",
       "      <td>145.84</td>\n",
       "      <td>148.89</td>\n",
       "      <td>73,779,109</td>\n",
       "    </tr>\n",
       "    <tr>\n",
       "      <th>250</th>\n",
       "      <td>2021-08-13</td>\n",
       "      <td>148.97</td>\n",
       "      <td>149.44</td>\n",
       "      <td>148.27</td>\n",
       "      <td>149.10</td>\n",
       "      <td>59,375,008</td>\n",
       "    </tr>\n",
       "    <tr>\n",
       "      <th>249</th>\n",
       "      <td>2021-08-16</td>\n",
       "      <td>148.54</td>\n",
       "      <td>151.19</td>\n",
       "      <td>146.47</td>\n",
       "      <td>151.12</td>\n",
       "      <td>103,558,797</td>\n",
       "    </tr>\n",
       "    <tr>\n",
       "      <th>248</th>\n",
       "      <td>2021-08-17</td>\n",
       "      <td>150.23</td>\n",
       "      <td>151.68</td>\n",
       "      <td>149.09</td>\n",
       "      <td>150.19</td>\n",
       "      <td>92,229,742</td>\n",
       "    </tr>\n",
       "    <tr>\n",
       "      <th>247</th>\n",
       "      <td>2021-08-18</td>\n",
       "      <td>149.80</td>\n",
       "      <td>150.72</td>\n",
       "      <td>146.15</td>\n",
       "      <td>146.36</td>\n",
       "      <td>86,325,992</td>\n",
       "    </tr>\n",
       "  </tbody>\n",
       "</table>\n",
       "</div>"
      ],
      "text/plain": [
       "          Date    Open    High     Low   Close       Volume\n",
       "251 2021-08-12  146.19  149.05  145.84  148.89   73,779,109\n",
       "250 2021-08-13  148.97  149.44  148.27  149.10   59,375,008\n",
       "249 2021-08-16  148.54  151.19  146.47  151.12  103,558,797\n",
       "248 2021-08-17  150.23  151.68  149.09  150.19   92,229,742\n",
       "247 2021-08-18  149.80  150.72  146.15  146.36   86,325,992"
      ]
     },
     "execution_count": 4,
     "metadata": {},
     "output_type": "execute_result"
    }
   ],
   "source": [
    "df.sort_values('Date', ascending=True, inplace=True)\n",
    "df.head()"
   ]
  },
  {
   "cell_type": "code",
   "execution_count": 5,
   "id": "792d61e5",
   "metadata": {},
   "outputs": [
    {
     "data": {
      "text/html": [
       "<div>\n",
       "<style scoped>\n",
       "    .dataframe tbody tr th:only-of-type {\n",
       "        vertical-align: middle;\n",
       "    }\n",
       "\n",
       "    .dataframe tbody tr th {\n",
       "        vertical-align: top;\n",
       "    }\n",
       "\n",
       "    .dataframe thead th {\n",
       "        text-align: right;\n",
       "    }\n",
       "</style>\n",
       "<table border=\"1\" class=\"dataframe\">\n",
       "  <thead>\n",
       "    <tr style=\"text-align: right;\">\n",
       "      <th></th>\n",
       "      <th>Open</th>\n",
       "      <th>High</th>\n",
       "      <th>Low</th>\n",
       "      <th>Close</th>\n",
       "      <th>Volume</th>\n",
       "    </tr>\n",
       "    <tr>\n",
       "      <th>Date</th>\n",
       "      <th></th>\n",
       "      <th></th>\n",
       "      <th></th>\n",
       "      <th></th>\n",
       "      <th></th>\n",
       "    </tr>\n",
       "  </thead>\n",
       "  <tbody>\n",
       "    <tr>\n",
       "      <th>2021-08-12</th>\n",
       "      <td>146.19</td>\n",
       "      <td>149.05</td>\n",
       "      <td>145.84</td>\n",
       "      <td>148.89</td>\n",
       "      <td>73,779,109</td>\n",
       "    </tr>\n",
       "    <tr>\n",
       "      <th>2021-08-13</th>\n",
       "      <td>148.97</td>\n",
       "      <td>149.44</td>\n",
       "      <td>148.27</td>\n",
       "      <td>149.10</td>\n",
       "      <td>59,375,008</td>\n",
       "    </tr>\n",
       "    <tr>\n",
       "      <th>2021-08-16</th>\n",
       "      <td>148.54</td>\n",
       "      <td>151.19</td>\n",
       "      <td>146.47</td>\n",
       "      <td>151.12</td>\n",
       "      <td>103,558,797</td>\n",
       "    </tr>\n",
       "    <tr>\n",
       "      <th>2021-08-17</th>\n",
       "      <td>150.23</td>\n",
       "      <td>151.68</td>\n",
       "      <td>149.09</td>\n",
       "      <td>150.19</td>\n",
       "      <td>92,229,742</td>\n",
       "    </tr>\n",
       "    <tr>\n",
       "      <th>2021-08-18</th>\n",
       "      <td>149.80</td>\n",
       "      <td>150.72</td>\n",
       "      <td>146.15</td>\n",
       "      <td>146.36</td>\n",
       "      <td>86,325,992</td>\n",
       "    </tr>\n",
       "  </tbody>\n",
       "</table>\n",
       "</div>"
      ],
      "text/plain": [
       "              Open    High     Low   Close       Volume\n",
       "Date                                                   \n",
       "2021-08-12  146.19  149.05  145.84  148.89   73,779,109\n",
       "2021-08-13  148.97  149.44  148.27  149.10   59,375,008\n",
       "2021-08-16  148.54  151.19  146.47  151.12  103,558,797\n",
       "2021-08-17  150.23  151.68  149.09  150.19   92,229,742\n",
       "2021-08-18  149.80  150.72  146.15  146.36   86,325,992"
      ]
     },
     "execution_count": 5,
     "metadata": {},
     "output_type": "execute_result"
    }
   ],
   "source": [
    "df.set_index('Date', inplace=True)\n",
    "df.head()"
   ]
  },
  {
   "cell_type": "code",
   "execution_count": 6,
   "id": "407f4b78",
   "metadata": {},
   "outputs": [
    {
     "data": {
      "text/plain": [
       "array([[ 1.4819e+02,  1.4900e+00],\n",
       "       [ 1.4971e+02,  1.5200e+00],\n",
       "       [ 1.4962e+02, -9.0000e-02],\n",
       "       [ 1.4836e+02, -1.2600e+00],\n",
       "       [ 1.4754e+02, -8.2000e-01]])"
      ]
     },
     "execution_count": 6,
     "metadata": {},
     "output_type": "execute_result"
    }
   ],
   "source": [
    "env = gym.make('stocks-v0', df=df, frame_bound=(10,100), window_size=5)\n",
    "env.reset()"
   ]
  },
  {
   "cell_type": "code",
   "execution_count": 7,
   "id": "a9aa9b67",
   "metadata": {},
   "outputs": [],
   "source": [
    "df['Volume'] = df['Volume'].apply(lambda x: float(x.replace(\",\", \"\")))"
   ]
  },
  {
   "cell_type": "code",
   "execution_count": 8,
   "id": "94db024c",
   "metadata": {},
   "outputs": [
    {
     "data": {
      "text/plain": [
       "Open      float64\n",
       "High      float64\n",
       "Low       float64\n",
       "Close     float64\n",
       "Volume    float64\n",
       "dtype: object"
      ]
     },
     "execution_count": 8,
     "metadata": {},
     "output_type": "execute_result"
    }
   ],
   "source": [
    "df.dtypes"
   ]
  },
  {
   "cell_type": "code",
   "execution_count": 9,
   "id": "e0ff7d0c",
   "metadata": {},
   "outputs": [],
   "source": [
    "from gym_anytrading.envs import StocksEnv\n",
    "from finta import TA"
   ]
  },
  {
   "cell_type": "code",
   "execution_count": 10,
   "id": "7390e0d0",
   "metadata": {},
   "outputs": [],
   "source": [
    "df['SMA'] = TA.SMA(df, 12)\n",
    "df['RSI'] = TA.RSI(df)\n",
    "df['OBV'] = TA.OBV(df)\n",
    "df.fillna(0, inplace=True)"
   ]
  },
  {
   "cell_type": "code",
   "execution_count": 11,
   "id": "f8b9b0c6",
   "metadata": {},
   "outputs": [
    {
     "data": {
      "text/html": [
       "<div>\n",
       "<style scoped>\n",
       "    .dataframe tbody tr th:only-of-type {\n",
       "        vertical-align: middle;\n",
       "    }\n",
       "\n",
       "    .dataframe tbody tr th {\n",
       "        vertical-align: top;\n",
       "    }\n",
       "\n",
       "    .dataframe thead th {\n",
       "        text-align: right;\n",
       "    }\n",
       "</style>\n",
       "<table border=\"1\" class=\"dataframe\">\n",
       "  <thead>\n",
       "    <tr style=\"text-align: right;\">\n",
       "      <th></th>\n",
       "      <th>Open</th>\n",
       "      <th>High</th>\n",
       "      <th>Low</th>\n",
       "      <th>Close</th>\n",
       "      <th>Volume</th>\n",
       "      <th>SMA</th>\n",
       "      <th>RSI</th>\n",
       "      <th>OBV</th>\n",
       "    </tr>\n",
       "    <tr>\n",
       "      <th>Date</th>\n",
       "      <th></th>\n",
       "      <th></th>\n",
       "      <th></th>\n",
       "      <th></th>\n",
       "      <th></th>\n",
       "      <th></th>\n",
       "      <th></th>\n",
       "      <th></th>\n",
       "    </tr>\n",
       "  </thead>\n",
       "  <tbody>\n",
       "    <tr>\n",
       "      <th>2021-08-12</th>\n",
       "      <td>146.19</td>\n",
       "      <td>149.05</td>\n",
       "      <td>145.84</td>\n",
       "      <td>148.89</td>\n",
       "      <td>73779109.0</td>\n",
       "      <td>0.0</td>\n",
       "      <td>0.000000</td>\n",
       "      <td>0.0</td>\n",
       "    </tr>\n",
       "    <tr>\n",
       "      <th>2021-08-13</th>\n",
       "      <td>148.97</td>\n",
       "      <td>149.44</td>\n",
       "      <td>148.27</td>\n",
       "      <td>149.10</td>\n",
       "      <td>59375008.0</td>\n",
       "      <td>0.0</td>\n",
       "      <td>100.000000</td>\n",
       "      <td>59375008.0</td>\n",
       "    </tr>\n",
       "    <tr>\n",
       "      <th>2021-08-16</th>\n",
       "      <td>148.54</td>\n",
       "      <td>151.19</td>\n",
       "      <td>146.47</td>\n",
       "      <td>151.12</td>\n",
       "      <td>103558797.0</td>\n",
       "      <td>0.0</td>\n",
       "      <td>100.000000</td>\n",
       "      <td>162933805.0</td>\n",
       "    </tr>\n",
       "    <tr>\n",
       "      <th>2021-08-17</th>\n",
       "      <td>150.23</td>\n",
       "      <td>151.68</td>\n",
       "      <td>149.09</td>\n",
       "      <td>150.19</td>\n",
       "      <td>92229742.0</td>\n",
       "      <td>0.0</td>\n",
       "      <td>68.862848</td>\n",
       "      <td>70704063.0</td>\n",
       "    </tr>\n",
       "    <tr>\n",
       "      <th>2021-08-18</th>\n",
       "      <td>149.80</td>\n",
       "      <td>150.72</td>\n",
       "      <td>146.15</td>\n",
       "      <td>146.36</td>\n",
       "      <td>86325992.0</td>\n",
       "      <td>0.0</td>\n",
       "      <td>28.922370</td>\n",
       "      <td>-15621929.0</td>\n",
       "    </tr>\n",
       "    <tr>\n",
       "      <th>2021-08-19</th>\n",
       "      <td>145.03</td>\n",
       "      <td>148.00</td>\n",
       "      <td>144.50</td>\n",
       "      <td>146.70</td>\n",
       "      <td>86960312.0</td>\n",
       "      <td>0.0</td>\n",
       "      <td>32.656494</td>\n",
       "      <td>71338383.0</td>\n",
       "    </tr>\n",
       "    <tr>\n",
       "      <th>2021-08-20</th>\n",
       "      <td>147.44</td>\n",
       "      <td>148.50</td>\n",
       "      <td>146.78</td>\n",
       "      <td>148.19</td>\n",
       "      <td>60549633.0</td>\n",
       "      <td>0.0</td>\n",
       "      <td>46.036296</td>\n",
       "      <td>131888016.0</td>\n",
       "    </tr>\n",
       "    <tr>\n",
       "      <th>2021-08-23</th>\n",
       "      <td>148.31</td>\n",
       "      <td>150.19</td>\n",
       "      <td>147.89</td>\n",
       "      <td>149.71</td>\n",
       "      <td>60131809.0</td>\n",
       "      <td>0.0</td>\n",
       "      <td>55.704678</td>\n",
       "      <td>192019825.0</td>\n",
       "    </tr>\n",
       "    <tr>\n",
       "      <th>2021-08-24</th>\n",
       "      <td>149.45</td>\n",
       "      <td>150.86</td>\n",
       "      <td>149.15</td>\n",
       "      <td>149.62</td>\n",
       "      <td>48606434.0</td>\n",
       "      <td>0.0</td>\n",
       "      <td>55.075471</td>\n",
       "      <td>143413391.0</td>\n",
       "    </tr>\n",
       "    <tr>\n",
       "      <th>2021-08-25</th>\n",
       "      <td>149.81</td>\n",
       "      <td>150.32</td>\n",
       "      <td>147.80</td>\n",
       "      <td>148.36</td>\n",
       "      <td>58991301.0</td>\n",
       "      <td>0.0</td>\n",
       "      <td>47.060981</td>\n",
       "      <td>84422090.0</td>\n",
       "    </tr>\n",
       "  </tbody>\n",
       "</table>\n",
       "</div>"
      ],
      "text/plain": [
       "              Open    High     Low   Close       Volume  SMA         RSI  \\\n",
       "Date                                                                       \n",
       "2021-08-12  146.19  149.05  145.84  148.89   73779109.0  0.0    0.000000   \n",
       "2021-08-13  148.97  149.44  148.27  149.10   59375008.0  0.0  100.000000   \n",
       "2021-08-16  148.54  151.19  146.47  151.12  103558797.0  0.0  100.000000   \n",
       "2021-08-17  150.23  151.68  149.09  150.19   92229742.0  0.0   68.862848   \n",
       "2021-08-18  149.80  150.72  146.15  146.36   86325992.0  0.0   28.922370   \n",
       "2021-08-19  145.03  148.00  144.50  146.70   86960312.0  0.0   32.656494   \n",
       "2021-08-20  147.44  148.50  146.78  148.19   60549633.0  0.0   46.036296   \n",
       "2021-08-23  148.31  150.19  147.89  149.71   60131809.0  0.0   55.704678   \n",
       "2021-08-24  149.45  150.86  149.15  149.62   48606434.0  0.0   55.075471   \n",
       "2021-08-25  149.81  150.32  147.80  148.36   58991301.0  0.0   47.060981   \n",
       "\n",
       "                    OBV  \n",
       "Date                     \n",
       "2021-08-12          0.0  \n",
       "2021-08-13   59375008.0  \n",
       "2021-08-16  162933805.0  \n",
       "2021-08-17   70704063.0  \n",
       "2021-08-18  -15621929.0  \n",
       "2021-08-19   71338383.0  \n",
       "2021-08-20  131888016.0  \n",
       "2021-08-23  192019825.0  \n",
       "2021-08-24  143413391.0  \n",
       "2021-08-25   84422090.0  "
      ]
     },
     "execution_count": 11,
     "metadata": {},
     "output_type": "execute_result"
    }
   ],
   "source": [
    "df.head(10)"
   ]
  },
  {
   "cell_type": "code",
   "execution_count": 12,
   "id": "0543034b",
   "metadata": {},
   "outputs": [],
   "source": [
    "def add_signals(env):\n",
    "    start = env.frame_bound[0] - env.window_size\n",
    "    end = env.frame_bound[1]\n",
    "    prices = env.df.loc[:, 'Low'].to_numpy()[start:end]\n",
    "    signal_features = env.df.loc[:, ['Low', 'Volume','SMA', 'RSI', 'OBV']].to_numpy()[start:end]\n",
    "    return prices, signal_features"
   ]
  },
  {
   "cell_type": "code",
   "execution_count": 13,
   "id": "f3d15efb",
   "metadata": {},
   "outputs": [],
   "source": [
    "class MyCustomEnv(StocksEnv):\n",
    "    _process_data = add_signals\n",
    "env2 = MyCustomEnv(df=df, window_size=12, frame_bound=(12,50))"
   ]
  },
  {
   "cell_type": "code",
   "execution_count": 14,
   "id": "77a429f2",
   "metadata": {},
   "outputs": [
    {
     "data": {
      "text/plain": [
       "array([[ 1.45840000e+02,  7.37791090e+07,  0.00000000e+00,\n",
       "         0.00000000e+00,  0.00000000e+00],\n",
       "       [ 1.48270000e+02,  5.93750080e+07,  0.00000000e+00,\n",
       "         1.00000000e+02,  5.93750080e+07],\n",
       "       [ 1.46470000e+02,  1.03558797e+08,  0.00000000e+00,\n",
       "         1.00000000e+02,  1.62933805e+08],\n",
       "       [ 1.49090000e+02,  9.22297420e+07,  0.00000000e+00,\n",
       "         6.88628483e+01,  7.07040630e+07],\n",
       "       [ 1.46150000e+02,  8.63259920e+07,  0.00000000e+00,\n",
       "         2.89223697e+01, -1.56219290e+07],\n",
       "       [ 1.44500000e+02,  8.69603120e+07,  0.00000000e+00,\n",
       "         3.26564945e+01,  7.13383830e+07],\n",
       "       [ 1.46780000e+02,  6.05496330e+07,  0.00000000e+00,\n",
       "         4.60362961e+01,  1.31888016e+08],\n",
       "       [ 1.47890000e+02,  6.01318090e+07,  0.00000000e+00,\n",
       "         5.57046784e+01,  1.92019825e+08],\n",
       "       [ 1.49150000e+02,  4.86064340e+07,  0.00000000e+00,\n",
       "         5.50754709e+01,  1.43413391e+08],\n",
       "       [ 1.47800000e+02,  5.89913010e+07,  0.00000000e+00,\n",
       "         4.70609806e+01,  8.44220900e+07],\n",
       "       [ 1.47510000e+02,  4.85971990e+07,  0.00000000e+00,\n",
       "         4.27055600e+01,  3.58248910e+07],\n",
       "       [ 1.46830000e+02,  5.58023910e+07,  1.48698333e+02,\n",
       "         4.92447879e+01,  9.16272820e+07],\n",
       "       [ 1.48610000e+02,  9.09567190e+07,  1.49050833e+02,\n",
       "         6.66986908e+01,  1.82584001e+08],\n",
       "       [ 1.51290000e+02,  8.64531170e+07,  1.49278333e+02,\n",
       "         6.03229528e+01,  9.61308840e+07],\n",
       "       [ 1.52340000e+02,  8.03137110e+07,  1.49394167e+02,\n",
       "         6.23651926e+01,  1.76444595e+08],\n",
       "       [ 1.52400000e+02,  7.11713200e+07,  1.49682500e+02,\n",
       "         6.55651635e+01,  2.47615915e+08],\n",
       "       [ 1.53090000e+02,  5.78660700e+07,  1.50344167e+02,\n",
       "         6.72737829e+01,  3.05481985e+08],\n",
       "       [ 1.54390000e+02,  8.22782580e+07,  1.51176667e+02,\n",
       "         7.26479009e+01,  3.87760243e+08],\n",
       "       [ 1.53980000e+02,  7.44202110e+07,  1.51753333e+02,\n",
       "         6.50435916e+01,  3.13340032e+08],\n",
       "       [ 1.53950000e+02,  5.73057270e+07,  1.52116667e+02,\n",
       "         6.05507880e+01,  2.56034305e+08],\n",
       "       [ 1.48700000e+02,  1.40893203e+08,  1.52062500e+02,\n",
       "         4.43666088e+01,  1.15141102e+08],\n",
       "       [ 1.48750000e+02,  1.02404305e+08,  1.52161667e+02,\n",
       "         4.61300459e+01,  2.17545407e+08],\n",
       "       [ 1.46910000e+02,  1.09296305e+08,  1.52210000e+02,\n",
       "         4.25490255e+01,  1.08249102e+08],\n",
       "       [ 1.46370000e+02,  8.32813200e+07,  1.52245833e+02,\n",
       "         4.54510390e+01,  1.91530422e+08],\n",
       "       [ 1.47220000e+02,  6.80341480e+07,  1.51885000e+02,\n",
       "         4.48081827e+01,  1.23496274e+08],\n",
       "       [ 1.45760000e+02,  1.29868797e+08,  1.51404167e+02,\n",
       "         3.81910770e+01, -6.37252300e+06],\n",
       "       [ 1.41270000e+02,  1.23478898e+08,  1.50606667e+02,\n",
       "         3.23172429e+01, -1.29851421e+08],\n",
       "       [ 1.42780000e+02,  7.58339610e+07,  1.49755000e+02,\n",
       "         3.40332190e+01, -5.40174600e+07],\n",
       "       [ 1.43700000e+02,  7.64043360e+07,  1.49050833e+02,\n",
       "         4.18715866e+01,  2.23868760e+07],\n",
       "       [ 1.45640000e+02,  6.48381680e+07,  1.48229167e+02,\n",
       "         4.47353878e+01,  8.72250440e+07],\n",
       "       [ 1.45560000e+02,  5.34778710e+07,  1.47546667e+02,\n",
       "         4.50033611e+01,  1.40702915e+08],\n",
       "       [ 1.43820000e+02,  7.41507270e+07,  1.46821667e+02,\n",
       "         4.12900307e+01,  6.65521880e+07],\n",
       "       [ 1.41690000e+02,  1.08972305e+08,  1.46233333e+02,\n",
       "         3.44555316e+01, -4.24201170e+07],\n",
       "       [ 1.42030000e+02,  7.46020390e+07,  1.45673333e+02,\n",
       "         3.74216077e+01,  3.21819220e+07],\n",
       "       [ 1.41280000e+02,  8.90566560e+07,  1.45121667e+02,\n",
       "         3.49586900e+01, -5.68747340e+07],\n",
       "       [ 1.39110000e+02,  9.46395860e+07,  1.44590000e+02,\n",
       "         3.87146016e+01,  3.77648520e+07],\n",
       "       [ 1.38270000e+02,  9.83220080e+07,  1.43785833e+02,\n",
       "         3.25384625e+01, -6.05571560e+07],\n",
       "       [ 1.39360000e+02,  8.08610550e+07,  1.43373333e+02,\n",
       "         3.84713168e+01,  2.03038990e+07],\n",
       "       [ 1.38370000e+02,  8.32211170e+07,  1.43295000e+02,\n",
       "         4.09959469e+01,  1.03525016e+08],\n",
       "       [ 1.42720000e+02,  6.17326600e+07,  1.43283333e+02,\n",
       "         4.45475565e+01,  1.65257676e+08],\n",
       "       [ 1.42560000e+02,  5.87731600e+07,  1.43037500e+02,\n",
       "         4.36913115e+01,  1.06484516e+08],\n",
       "       [ 1.41810000e+02,  6.44522190e+07,  1.42702500e+02,\n",
       "         4.34835992e+01,  4.20322970e+07],\n",
       "       [ 1.41040000e+02,  7.30358590e+07,  1.42251667e+02,\n",
       "         4.04893146e+01, -3.10035620e+07],\n",
       "       [ 1.39200000e+02,  7.87627190e+07,  1.41880000e+02,\n",
       "         3.91493756e+01, -1.09766281e+08],\n",
       "       [ 1.41510000e+02,  6.99071020e+07,  1.42034167e+02,\n",
       "         4.79591930e+01, -3.98591790e+07],\n",
       "       [ 1.43510000e+02,  6.79403280e+07,  1.42201667e+02,\n",
       "         5.08624088e+01,  2.80811490e+07],\n",
       "       [ 1.43160000e+02,  8.55891880e+07,  1.42622500e+02,\n",
       "         5.51305885e+01,  1.13670337e+08],\n",
       "       [ 1.46550000e+02,  7.63788910e+07,  1.43131667e+02,\n",
       "         5.99700271e+01,  1.90049228e+08],\n",
       "       [ 1.48120000e+02,  5.84187930e+07,  1.43975000e+02,\n",
       "         6.09950343e+01,  2.48468021e+08],\n",
       "       [ 1.47870000e+02,  6.14209920e+07,  1.44672500e+02,\n",
       "         6.14626199e+01,  3.09889013e+08]])"
      ]
     },
     "execution_count": 14,
     "metadata": {},
     "output_type": "execute_result"
    }
   ],
   "source": [
    "env2.signal_features"
   ]
  },
  {
   "cell_type": "markdown",
   "id": "7f39c160",
   "metadata": {},
   "source": [
    "### __6.Loading the Model__\n",
    "Now I will load the model the I had previosly trained"
   ]
  },
  {
   "cell_type": "code",
   "execution_count": 15,
   "id": "06c93b7c",
   "metadata": {},
   "outputs": [],
   "source": [
    "# Linking to the model's directory\n",
    "models_dir = \"models/PPO\"\n",
    "model_path=f\"{models_dir}/290000.zip\""
   ]
  },
  {
   "cell_type": "code",
   "execution_count": 16,
   "id": "0495b116",
   "metadata": {},
   "outputs": [],
   "source": [
    "from stable_baselines3.common.vec_env import DummyVecEnv\n",
    "env_maker = lambda: env2\n",
    "env = DummyVecEnv([env_maker])"
   ]
  },
  {
   "cell_type": "code",
   "execution_count": 17,
   "id": "77bd4eb2",
   "metadata": {},
   "outputs": [],
   "source": [
    "# using stable baselines .load\n",
    "model= PPO.load(model_path,env=env)"
   ]
  },
  {
   "cell_type": "code",
   "execution_count": 18,
   "id": "f4ebba53",
   "metadata": {},
   "outputs": [
    {
     "name": "stdout",
     "output_type": "stream",
     "text": [
      "info {'total_reward': 34.95999999999998, 'total_profit': 1.0415459036581969, 'position': 1}\n"
     ]
    }
   ],
   "source": [
    "env = MyCustomEnv(df=df, window_size=12, frame_bound=(20,100))\n",
    "obs = env.reset()\n",
    "while True: \n",
    "    obs = obs[np.newaxis, ...]\n",
    "    action, _states = model.predict(obs,deterministic=True)\n",
    "    obs, rewards, done, info = env.step(action)\n",
    "    if done:\n",
    "        print(\"info\", info)\n",
    "        break"
   ]
  },
  {
   "cell_type": "code",
   "execution_count": 19,
   "id": "7a3382f3",
   "metadata": {
    "scrolled": true
   },
   "outputs": [
    {
     "data": {
      "image/png": "[encoded data removed]",
      "text/plain": [
       "<Figure size 1080x432 with 1 Axes>"
      ]
     },
     "metadata": {
      "needs_background": "light"
     },
     "output_type": "display_data"
    }
   ],
   "source": [
    "plt.figure(figsize=(15,6))\n",
    "plt.cla()\n",
    "env.render_all()\n",
    "plt.show()"
   ]
  },
  {
   "cell_type": "markdown",
   "id": "c179ccbc",
   "metadata": {},
   "source": [
    "## __7.Conclusion__\n",
    "The model is able to give a decent profit of 6.34% for a period of 60 days at its best. The model can be imporved by using data of higher frequency but this would be computationally expensive. \n",
    "In conclusion the project shows the power of reinforcement learning in finance. "
   ]
  }
 ],
 "metadata": {
  "kernelspec": {
   "display_name": "Python 3 (ipykernel)",
   "language": "python",
   "name": "python3"
  },
  "language_info": {
   "codemirror_mode": {
    "name": "ipython",
    "version": 3
   },
   "file_extension": ".py",
   "mimetype": "text/x-python",
   "name": "python",
   "nbconvert_exporter": "python",
   "pygments_lexer": "ipython3",
   "version": "3.8.13"
  }
 },
 "nbformat": 4,
 "nbformat_minor": 5
}
